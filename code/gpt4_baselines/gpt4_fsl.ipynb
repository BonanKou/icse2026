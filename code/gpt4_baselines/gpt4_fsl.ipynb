{
 "cells": [
  {
   "cell_type": "code",
   "execution_count": 1,
   "metadata": {},
   "outputs": [],
   "source": [
    "from utils import *"
   ]
  },
  {
   "cell_type": "code",
   "execution_count": 2,
   "metadata": {},
   "outputs": [],
   "source": [
    "gpt4 = OpenAI_LLM(\"gpt-4o\")"
   ]
  },
  {
   "cell_type": "code",
   "execution_count": 3,
   "metadata": {},
   "outputs": [],
   "source": [
    "def generate_with_gpt_fsl(api, language):\n",
    "    with open(\"prompts/gpt4_fsl/instruction.txt\", \"r\") as f:\n",
    "        user_prompt = f.read().format(api=api, language=language)\n",
    "    return gpt4.free_output(user_prompt)"
   ]
  },
  {
   "cell_type": "code",
   "execution_count": 4,
   "metadata": {},
   "outputs": [],
   "source": [
    "api_to_post = read_json(\"api_to_post\")\n",
    "benchmark = read_json(\"benchmark\")"
   ]
  },
  {
   "cell_type": "code",
   "execution_count": 5,
   "metadata": {},
   "outputs": [
    {
     "name": "stderr",
     "output_type": "stream",
     "text": [
      "Processing: 100%|██████████| 48/48 [00:46<00:00,  1.02it/s]\n"
     ]
    }
   ],
   "source": [
    "from concurrent.futures import ThreadPoolExecutor, as_completed\n",
    "from tqdm import tqdm\n",
    "\n",
    "gpt4_fsl_result = {}\n",
    "max_workers = 20\n",
    "\n",
    "\n",
    "def call_and_wrap(i):\n",
    "    name = i[\"name\"]\n",
    "    lang = i[\"language\"]\n",
    "    result = generate_with_gpt_fsl(name, lang)\n",
    "    return name, result[0]\n",
    "\n",
    "\n",
    "with ThreadPoolExecutor(max_workers=max_workers) as executor:\n",
    "    futures = [executor.submit(call_and_wrap, i) for i in benchmark]\n",
    "    for future in tqdm(as_completed(futures), total=len(futures), desc=\"Processing\"):\n",
    "        name, result = future.result()\n",
    "        gpt4_fsl_result[name] = result"
   ]
  },
  {
   "cell_type": "code",
   "execution_count": 6,
   "metadata": {},
   "outputs": [
    {
     "name": "stdout",
     "output_type": "stream",
     "text": [
      "Sentences for API 'Attr' written to gpt4_fsl_result\\Attr.txt.\n",
      "Sentences for API 'ConnectionEvent' written to gpt4_fsl_result\\ConnectionEvent.txt.\n",
      "Sentences for API 'MouseListener' written to gpt4_fsl_result\\MouseListener.txt.\n",
      "Sentences for API 'X509TrustManager' written to gpt4_fsl_result\\X509TrustManager.txt.\n",
      "Sentences for API 'GradientTape' written to gpt4_fsl_result\\GradientTape.txt.\n",
      "Sentences for API 'TreeMap' written to gpt4_fsl_result\\TreeMap.txt.\n",
      "Sentences for API 'CheckBoxPreference' written to gpt4_fsl_result\\CheckBoxPreference.txt.\n",
      "Sentences for API 'AccessibilityRequestPreparer' written to gpt4_fsl_result\\AccessibilityRequestPreparer.txt.\n",
      "Sentences for API 'DatasetSpec' written to gpt4_fsl_result\\DatasetSpec.txt.\n",
      "Sentences for API 'AdapterStateHelper' written to gpt4_fsl_result\\AdapterStateHelper.txt.\n",
      "Sentences for API 'FragmentManager' written to gpt4_fsl_result\\FragmentManager.txt.\n",
      "Sentences for API 'SAXParser' written to gpt4_fsl_result\\SAXParser.txt.\n",
      "Sentences for API 'URISyntaxException' written to gpt4_fsl_result\\URISyntaxException.txt.\n",
      "Sentences for API 'FragmentTransaction' written to gpt4_fsl_result\\FragmentTransaction.txt.\n",
      "Sentences for API 'LinkedList' written to gpt4_fsl_result\\LinkedList.txt.\n",
      "Sentences for API 'Attributes2Impl' written to gpt4_fsl_result\\Attributes2Impl.txt.\n",
      "Sentences for API 'AlgorithmConstraints' written to gpt4_fsl_result\\AlgorithmConstraints.txt.\n",
      "Sentences for API 'VariableElement' written to gpt4_fsl_result\\VariableElement.txt.\n",
      "Sentences for API 'MediaRouter' written to gpt4_fsl_result\\MediaRouter.txt.\n",
      "Sentences for API 'NotificationManager' written to gpt4_fsl_result\\NotificationManager.txt.\n",
      "Sentences for API 'ByteArray' written to gpt4_fsl_result\\ByteArray.txt.\n",
      "Sentences for API 'CharSequence' written to gpt4_fsl_result\\CharSequence.txt.\n",
      "Sentences for API 'name_scope' written to gpt4_fsl_result\\name_scope.txt.\n",
      "Sentences for API 'RaggedTensorSpec' written to gpt4_fsl_result\\RaggedTensorSpec.txt.\n",
      "Sentences for API 'ulongArrayOf' written to gpt4_fsl_result\\ulongArrayOf.txt.\n",
      "Sentences for API 'IllegalArgumentException' written to gpt4_fsl_result\\IllegalArgumentException.txt.\n",
      "Sentences for API 'IntArray' written to gpt4_fsl_result\\IntArray.txt.\n",
      "Sentences for API 'uintArrayOf' written to gpt4_fsl_result\\uintArrayOf.txt.\n",
      "Sentences for API 'BigDecimal' written to gpt4_fsl_result\\BigDecimal.txt.\n",
      "Sentences for API 'DistributedIterator' written to gpt4_fsl_result\\DistributedIterator.txt.\n",
      "Sentences for API 'synchronized' written to gpt4_fsl_result\\synchronized.txt.\n",
      "Sentences for API 'TensorSpec' written to gpt4_fsl_result\\TensorSpec.txt.\n",
      "Sentences for API 'charArrayOf' written to gpt4_fsl_result\\charArrayOf.txt.\n",
      "Sentences for API 'ubyteArrayOf' written to gpt4_fsl_result\\ubyteArrayOf.txt.\n",
      "Sentences for API 'Double' written to gpt4_fsl_result\\Double.txt.\n",
      "Sentences for API 'SparseTensorSpec' written to gpt4_fsl_result\\SparseTensorSpec.txt.\n",
      "Sentences for API 'CheckpointManager' written to gpt4_fsl_result\\CheckpointManager.txt.\n",
      "Sentences for API 'DistributedValues' written to gpt4_fsl_result\\DistributedValues.txt.\n",
      "Sentences for API 'MirroredStrategy' written to gpt4_fsl_result\\MirroredStrategy.txt.\n",
      "Sentences for API 'VariableSynchronization' written to gpt4_fsl_result\\VariableSynchronization.txt.\n",
      "Sentences for API 'UUID' written to gpt4_fsl_result\\UUID.txt.\n",
      "Sentences for API 'MBeanServer' written to gpt4_fsl_result\\MBeanServer.txt.\n",
      "Sentences for API 'Model' written to gpt4_fsl_result\\Model.txt.\n",
      "Sentences for API 'MessageDigest' written to gpt4_fsl_result\\MessageDigest.txt.\n",
      "Sentences for API 'MediaPlayer' written to gpt4_fsl_result\\MediaPlayer.txt.\n",
      "Sentences for API 'ActionBar' written to gpt4_fsl_result\\ActionBar.txt.\n",
      "Sentences for API 'Manifest' written to gpt4_fsl_result\\Manifest.txt.\n"
     ]
    }
   ],
   "source": [
    "output_folder = \"gpt4_fsl_result\"\n",
    "os.makedirs(output_folder, exist_ok=True)\n",
    "\n",
    "for api in gpt4_fsl_result:\n",
    "    file_path = os.path.join(output_folder, f\"{api}.txt\")\n",
    "    with open(file_path, \"w\", encoding=\"utf-8\") as f:\n",
    "        f.write(gpt4_fsl_result[api])\n",
    "        print(f\"Sentences for API '{api}' written to {file_path}.\")"
   ]
  },
  {
   "cell_type": "code",
   "execution_count": null,
   "metadata": {},
   "outputs": [],
   "source": []
  }
 ],
 "metadata": {
  "kernelspec": {
   "display_name": "base",
   "language": "python",
   "name": "python3"
  },
  "language_info": {
   "codemirror_mode": {
    "name": "ipython",
    "version": 3
   },
   "file_extension": ".py",
   "mimetype": "text/x-python",
   "name": "python",
   "nbconvert_exporter": "python",
   "pygments_lexer": "ipython3",
   "version": "3.12.2"
  }
 },
 "nbformat": 4,
 "nbformat_minor": 2
}
