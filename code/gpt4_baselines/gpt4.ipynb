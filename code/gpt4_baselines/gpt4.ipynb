{
 "cells": [
  {
   "cell_type": "code",
   "execution_count": 1,
   "metadata": {},
   "outputs": [],
   "source": [
    "from utils import *"
   ]
  },
  {
   "cell_type": "code",
   "execution_count": 6,
   "metadata": {},
   "outputs": [],
   "source": [
    "gpt4 = OpenAI_LLM(\"gpt-4o\")"
   ]
  },
  {
   "cell_type": "code",
   "execution_count": null,
   "metadata": {},
   "outputs": [],
   "source": [
    "def generate_with_gpt_zsl(api, language):\n",
    "    with open(\"prompts/gpt4_zsl/instruction.txt\", \"r\") as f:\n",
    "        user_prompt = f.read().format(api=api, language=language)\n",
    "    return gpt4.free_output(user_prompt)"
   ]
  },
  {
   "cell_type": "code",
   "execution_count": 24,
   "metadata": {},
   "outputs": [],
   "source": [
    "api_to_post = read_json(\"api_to_post\")\n",
    "benchmark = read_json(\"benchmark\")"
   ]
  },
  {
   "cell_type": "code",
   "execution_count": 33,
   "metadata": {},
   "outputs": [
    {
     "name": "stderr",
     "output_type": "stream",
     "text": [
      "Processing: 100%|██████████| 48/48 [01:10<00:00,  1.46s/it]\n"
     ]
    }
   ],
   "source": [
    "from concurrent.futures import ThreadPoolExecutor, as_completed\n",
    "from tqdm import tqdm\n",
    "\n",
    "gpt4_zsl_result = {}\n",
    "max_workers = 20\n",
    "\n",
    "\n",
    "def call_and_wrap(i):\n",
    "    name = i[\"name\"]\n",
    "    lang = i[\"language\"]\n",
    "    result = generate_with_gpt_zsl(name, lang)\n",
    "    return name, result[0]\n",
    "\n",
    "\n",
    "with ThreadPoolExecutor(max_workers=max_workers) as executor:\n",
    "    futures = [executor.submit(call_and_wrap, i) for i in benchmark]\n",
    "    for future in tqdm(as_completed(futures), total=len(futures), desc=\"Processing\"):\n",
    "        name, result = future.result()\n",
    "        gpt4_zsl_result[name] = result"
   ]
  },
  {
   "cell_type": "code",
   "execution_count": null,
   "metadata": {},
   "outputs": [],
   "source": []
  },
  {
   "cell_type": "code",
   "execution_count": null,
   "metadata": {},
   "outputs": [
    {
     "name": "stdout",
     "output_type": "stream",
     "text": [
      "Sentences for API 'LinkedList' written to gpt4_zsl_result\\LinkedList.txt.\n",
      "Sentences for API 'CheckBoxPreference' written to gpt4_zsl_result\\CheckBoxPreference.txt.\n",
      "Sentences for API 'AccessibilityRequestPreparer' written to gpt4_zsl_result\\AccessibilityRequestPreparer.txt.\n",
      "Sentences for API 'MouseListener' written to gpt4_zsl_result\\MouseListener.txt.\n",
      "Sentences for API 'FragmentManager' written to gpt4_zsl_result\\FragmentManager.txt.\n",
      "Sentences for API 'URISyntaxException' written to gpt4_zsl_result\\URISyntaxException.txt.\n",
      "Sentences for API 'TreeMap' written to gpt4_zsl_result\\TreeMap.txt.\n",
      "Sentences for API 'AdapterStateHelper' written to gpt4_zsl_result\\AdapterStateHelper.txt.\n",
      "Sentences for API 'MediaRouter' written to gpt4_zsl_result\\MediaRouter.txt.\n",
      "Sentences for API 'NotificationManager' written to gpt4_zsl_result\\NotificationManager.txt.\n",
      "Sentences for API 'X509TrustManager' written to gpt4_zsl_result\\X509TrustManager.txt.\n",
      "Sentences for API 'VariableElement' written to gpt4_zsl_result\\VariableElement.txt.\n",
      "Sentences for API 'Attributes2Impl' written to gpt4_zsl_result\\Attributes2Impl.txt.\n",
      "Sentences for API 'AlgorithmConstraints' written to gpt4_zsl_result\\AlgorithmConstraints.txt.\n",
      "Sentences for API 'Attr' written to gpt4_zsl_result\\Attr.txt.\n",
      "Sentences for API 'ConnectionEvent' written to gpt4_zsl_result\\ConnectionEvent.txt.\n",
      "Sentences for API 'SAXParser' written to gpt4_zsl_result\\SAXParser.txt.\n",
      "Sentences for API 'DatasetSpec' written to gpt4_zsl_result\\DatasetSpec.txt.\n",
      "Sentences for API 'FragmentTransaction' written to gpt4_zsl_result\\FragmentTransaction.txt.\n",
      "Sentences for API 'GradientTape' written to gpt4_zsl_result\\GradientTape.txt.\n",
      "Sentences for API 'TensorSpec' written to gpt4_zsl_result\\TensorSpec.txt.\n",
      "Sentences for API 'DistributedIterator' written to gpt4_zsl_result\\DistributedIterator.txt.\n",
      "Sentences for API 'synchronized' written to gpt4_zsl_result\\synchronized.txt.\n",
      "Sentences for API 'MirroredStrategy' written to gpt4_zsl_result\\MirroredStrategy.txt.\n",
      "Sentences for API 'CheckpointManager' written to gpt4_zsl_result\\CheckpointManager.txt.\n",
      "Sentences for API 'SparseTensorSpec' written to gpt4_zsl_result\\SparseTensorSpec.txt.\n",
      "Sentences for API 'CharSequence' written to gpt4_zsl_result\\CharSequence.txt.\n",
      "Sentences for API 'uintArrayOf' written to gpt4_zsl_result\\uintArrayOf.txt.\n",
      "Sentences for API 'Double' written to gpt4_zsl_result\\Double.txt.\n",
      "Sentences for API 'IntArray' written to gpt4_zsl_result\\IntArray.txt.\n",
      "Sentences for API 'charArrayOf' written to gpt4_zsl_result\\charArrayOf.txt.\n",
      "Sentences for API 'ulongArrayOf' written to gpt4_zsl_result\\ulongArrayOf.txt.\n",
      "Sentences for API 'ByteArray' written to gpt4_zsl_result\\ByteArray.txt.\n",
      "Sentences for API 'IllegalArgumentException' written to gpt4_zsl_result\\IllegalArgumentException.txt.\n",
      "Sentences for API 'RaggedTensorSpec' written to gpt4_zsl_result\\RaggedTensorSpec.txt.\n",
      "Sentences for API 'name_scope' written to gpt4_zsl_result\\name_scope.txt.\n",
      "Sentences for API 'DistributedValues' written to gpt4_zsl_result\\DistributedValues.txt.\n",
      "Sentences for API 'ubyteArrayOf' written to gpt4_zsl_result\\ubyteArrayOf.txt.\n",
      "Sentences for API 'BigDecimal' written to gpt4_zsl_result\\BigDecimal.txt.\n",
      "Sentences for API 'MBeanServer' written to gpt4_zsl_result\\MBeanServer.txt.\n",
      "Sentences for API 'Model' written to gpt4_zsl_result\\Model.txt.\n",
      "Sentences for API 'VariableSynchronization' written to gpt4_zsl_result\\VariableSynchronization.txt.\n",
      "Sentences for API 'MediaPlayer' written to gpt4_zsl_result\\MediaPlayer.txt.\n",
      "Sentences for API 'MessageDigest' written to gpt4_zsl_result\\MessageDigest.txt.\n",
      "Sentences for API 'ActionBar' written to gpt4_zsl_result\\ActionBar.txt.\n",
      "Sentences for API 'UUID' written to gpt4_zsl_result\\UUID.txt.\n",
      "Sentences for API 'Manifest' written to gpt4_zsl_result\\Manifest.txt.\n"
     ]
    },
    {
     "ename": "",
     "evalue": "",
     "output_type": "error",
     "traceback": [
      "\u001b[1;31mThe Kernel crashed while executing code in the current cell or a previous cell. \n",
      "\u001b[1;31mPlease review the code in the cell(s) to identify a possible cause of the failure. \n",
      "\u001b[1;31mClick <a href='https://aka.ms/vscodeJupyterKernelCrash'>here</a> for more info. \n",
      "\u001b[1;31mView Jupyter <a href='command:jupyter.viewOutput'>log</a> for further details."
     ]
    }
   ],
   "source": [
    "output_folder = \"gpt4_zsl_result\"\n",
    "os.makedirs(output_folder, exist_ok=True)\n",
    "\n",
    "for api in gpt4_zsl_result:\n",
    "    file_path = os.path.join(output_folder, f\"{api}.txt\")\n",
    "    with open(file_path, \"w\", encoding=\"utf-8\") as f:\n",
    "        f.write(gpt4_zsl_result[api])\n",
    "        print(f\"Sentences for API '{api}' written to {file_path}.\")"
   ]
  },
  {
   "cell_type": "code",
   "execution_count": 25,
   "metadata": {},
   "outputs": [
    {
     "data": {
      "text/plain": [
       "[{'name': 'AlgorithmConstraints', 'language': 'java', 'popularity': 'high'},\n",
       " {'name': 'AdapterStateHelper', 'language': 'java', 'popularity': 'high'},\n",
       " {'name': 'VariableElement', 'language': 'java', 'popularity': 'high'},\n",
       " {'name': 'MouseListener', 'language': 'java', 'popularity': 'middle'},\n",
       " {'name': 'SAXParser', 'language': 'java', 'popularity': 'middle'},\n",
       " {'name': 'LinkedList', 'language': 'java', 'popularity': 'middle'},\n",
       " {'name': 'TreeMap', 'language': 'java', 'popularity': 'low'},\n",
       " {'name': 'URISyntaxException', 'language': 'java', 'popularity': 'low'},\n",
       " {'name': 'X509TrustManager', 'language': 'java', 'popularity': 'low'},\n",
       " {'name': 'FragmentManager', 'language': 'android', 'popularity': 'high'},\n",
       " {'name': 'NotificationManager', 'language': 'android', 'popularity': 'high'},\n",
       " {'name': 'FragmentTransaction', 'language': 'android', 'popularity': 'high'},\n",
       " {'name': 'CheckBoxPreference', 'language': 'android', 'popularity': 'middle'},\n",
       " {'name': 'MediaRouter', 'language': 'android', 'popularity': 'middle'},\n",
       " {'name': 'AccessibilityRequestPreparer',\n",
       "  'language': 'android',\n",
       "  'popularity': 'middle'},\n",
       " {'name': 'Attr', 'language': 'android', 'popularity': 'low'},\n",
       " {'name': 'ConnectionEvent', 'language': 'android', 'popularity': 'low'},\n",
       " {'name': 'Attributes2Impl', 'language': 'android', 'popularity': 'low'},\n",
       " {'name': 'GradientTape', 'language': 'tf', 'popularity': 'high'},\n",
       " {'name': 'DatasetSpec', 'language': 'tf', 'popularity': 'high'},\n",
       " {'name': 'DistributedIterator', 'language': 'tf', 'popularity': 'high'},\n",
       " {'name': 'MirroredStrategy', 'language': 'tf', 'popularity': 'middle'},\n",
       " {'name': 'CheckpointManager', 'language': 'tf', 'popularity': 'middle'},\n",
       " {'name': 'name_scope', 'language': 'tf', 'popularity': 'middle'},\n",
       " {'name': 'RaggedTensorSpec', 'language': 'tf', 'popularity': 'low'},\n",
       " {'name': 'SparseTensorSpec', 'language': 'tf', 'popularity': 'low'},\n",
       " {'name': 'TensorSpec', 'language': 'tf', 'popularity': 'low'},\n",
       " {'name': 'Double', 'language': 'kotlin', 'popularity': 'high'},\n",
       " {'name': 'ByteArray', 'language': 'kotlin', 'popularity': 'high'},\n",
       " {'name': 'CharSequence', 'language': 'kotlin', 'popularity': 'high'},\n",
       " {'name': 'synchronized', 'language': 'kotlin', 'popularity': 'middle'},\n",
       " {'name': 'IntArray', 'language': 'kotlin', 'popularity': 'middle'},\n",
       " {'name': 'charArrayOf', 'language': 'kotlin', 'popularity': 'middle'},\n",
       " {'name': 'ubyteArrayOf', 'language': 'kotlin', 'popularity': 'low'},\n",
       " {'name': 'ulongArrayOf', 'language': 'kotlin', 'popularity': 'low'},\n",
       " {'name': 'uintArrayOf', 'language': 'kotlin', 'popularity': 'low'},\n",
       " {'name': 'ByteArray', 'language': 'kotlin', 'popularity': 'high'},\n",
       " {'name': 'IllegalArgumentException',\n",
       "  'language': 'kotlin',\n",
       "  'popularity': 'middle'},\n",
       " {'name': 'BigDecimal', 'language': 'kotlin', 'popularity': 'low'},\n",
       " {'name': 'DistributedValues', 'popularity': 'high', 'language': 'tf'},\n",
       " {'name': 'Model', 'popularity': 'middle', 'language': 'tf'},\n",
       " {'name': 'VariableSynchronization', 'popularity': 'low', 'language': 'tf'},\n",
       " {'name': 'MBeanServer', 'popularity': 'high', 'language': 'java'},\n",
       " {'name': 'MessageDigest', 'popularity': 'middle', 'language': 'java'},\n",
       " {'name': 'UUID', 'popularity': 'low', 'language': 'java'},\n",
       " {'name': 'Manifest', 'popularity': 'high', 'language': 'android'},\n",
       " {'name': 'MediaPlayer', 'popularity': 'middle', 'language': 'android'},\n",
       " {'name': 'ActionBar', 'popularity': 'low', 'language': 'android'}]"
      ]
     },
     "execution_count": 25,
     "metadata": {},
     "output_type": "execute_result"
    }
   ],
   "source": [
    "benchmark"
   ]
  },
  {
   "cell_type": "code",
   "execution_count": null,
   "metadata": {},
   "outputs": [],
   "source": []
  },
  {
   "cell_type": "code",
   "execution_count": 16,
   "metadata": {},
   "outputs": [],
   "source": [
    "free_result = generate_with_gpt_zsl(\"gather\", \"tensorflow\")"
   ]
  },
  {
   "cell_type": "code",
   "execution_count": 19,
   "metadata": {},
   "outputs": [],
   "source": [
    "count_result = count(\"gather\", \"tensorflow\", free_result[0])"
   ]
  },
  {
   "cell_type": "code",
   "execution_count": 20,
   "metadata": {},
   "outputs": [
    {
     "data": {
      "text/plain": [
       "({'explanation': \"To assess the number of knowledge snippets in this API document, we'll break each section into individual pieces of actionable knowledge or specific information. A snippet here represents a unique piece of information that serves to enhance understanding or usage of the `tf.gather` function in TensorFlow. \\n\\n1. **Functionality Section:**\\n   - Snippet 1: `tf.gather` selects elements from a tensor along a specified axis.\\n   - Snippet 2: Default behavior is gathering along the first axis, modifiable with `axis` parameter.\\n   - Snippet 3: Supports batch operations using the `batch_dims` parameter.\\n\\n2. **Concept Section:**\\n   - Snippet 4: Tensor definition and type information.\\n   - Snippet 5: Indices for `tf.gather` must be integer tensors.\\n\\n3. **Performance Section:**\\n   - Snippet 6: Efficiency consideration at scale and computational overhead.\\n   - Snippet 7: Memory usage concerns with output tensor size.\\n\\n4. **Directive Section:**\\n   - Snippet 8: All indices must be within bounds to prevent runtime errors.\\n   - Snippet 9: Importance of enclosing operations within the computational graph.\\n   - Snippet 10: Maintaining static shape aspects for optimization.\\n\\n5. **Pattern Section:**\\n   - Snippet 11: Use of `tf.gather` for embedding lookups.\\n   - Snippet 12: Application of `tf.gather` in data reordering.\\n\\n6. **Environment Section:**\\n   - Snippet 13: Installation requirement of TensorFlow.\\n   - Snippet 14: Supported hardware (CPU/GPU).\\n\\n7. **Alternative Section:**\\n   - Snippet 15: `tf.scatter_nd` and its reverse functionality.\\n   - Snippet 16: PyTorch equivalent: `torch.index_select`.\\n   - Snippet 17: NumPy equivalent: `numpy.take`.\\n\\nUpon reviewing, *all the snippets appear accurate and consistent based on my training data.*\",\n",
       "  'number_of_snippets': 17,\n",
       "  'number_of_inaccurate_snippets': 0},\n",
       " 0.00041865)"
      ]
     },
     "execution_count": 20,
     "metadata": {},
     "output_type": "execute_result"
    }
   ],
   "source": [
    "count_result"
   ]
  },
  {
   "cell_type": "code",
   "execution_count": 5,
   "metadata": {},
   "outputs": [
    {
     "data": {
      "text/plain": [
       "'\"functionality\" ,\"concept\" ,\"performance\" ,\"directive\" ,\"pattern\" ,\"environment\" ,\"alternative\" '"
      ]
     },
     "execution_count": 5,
     "metadata": {},
     "output_type": "execute_result"
    }
   ],
   "source": [
    "test = \"\"\n",
    "for i in knowledge_type_descriptions:\n",
    "    # print(i, \":\", knowledge_type_descriptions[i])\n",
    "    test += f'\"{i}\" ,'\n",
    "test[:-1]"
   ]
  }
 ],
 "metadata": {
  "kernelspec": {
   "display_name": "base",
   "language": "python",
   "name": "python3"
  },
  "language_info": {
   "codemirror_mode": {
    "name": "ipython",
    "version": 3
   },
   "file_extension": ".py",
   "mimetype": "text/x-python",
   "name": "python",
   "nbconvert_exporter": "python",
   "pygments_lexer": "ipython3",
   "version": "3.12.2"
  }
 },
 "nbformat": 4,
 "nbformat_minor": 2
}
